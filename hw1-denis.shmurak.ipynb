{
 "cells": [
  {
   "cell_type": "markdown",
   "metadata": {
    "deletable": true,
    "editable": true
   },
   "source": [
    "# Алгоритмы интеллектуальной обработки больших объемов данных\n",
    "## Домашнее задание №1 - Метод k-средних, предобработка признаков\n"
   ]
  },
  {
   "cell_type": "markdown",
   "metadata": {
    "deletable": true,
    "editable": true
   },
   "source": [
    "###### <hr\\>\n",
    "**Общая информация**\n",
    "\n",
    "**Срок сдачи:** 6 марта 2017, 06:00 <br\\>\n",
    "**Штраф за опоздание:** -2 балла после 06:00 6 марта, -4 балла после 06:00 13 марта, -6 баллов после 06:00 20 марта\n",
    "\n",
    "При отправлении ДЗ указывайте фамилию в названии файла<br\\>\n",
    "\n",
    "Используйте данный Ipython Notebook при оформлении домашнего задания.\n",
    "<hr\\>"
   ]
  },
  {
   "cell_type": "markdown",
   "metadata": {
    "deletable": true,
    "editable": true
   },
   "source": [
    "# Первое задание - указать фамилию в имени файла"
   ]
  },
  {
   "cell_type": "code",
   "execution_count": 5,
   "metadata": {
    "collapsed": true,
    "deletable": true,
    "editable": true
   },
   "outputs": [],
   "source": [
    "import pandas as pd\n",
    "import numpy as np\n",
    "import matplotlib.pyplot as plt\n",
    "\n",
    "%matplotlib inline\n",
    "\n",
    "plt.style.use('ggplot')\n",
    "plt.rcParams['figure.figsize'] = (12,5)"
   ]
  },
  {
   "cell_type": "markdown",
   "metadata": {
    "deletable": true,
    "editable": true
   },
   "source": [
    "# Пролог: Модуль sklearn\n",
    "На наших практических занятиях мы будем использовать [sklearn](http://scikit-learn.org/stable/index.html) (scikit-learn) - наиболее популярный модуль для работы с методами машинного обучения и анализа данных.\n",
    "\n",
    "Этот модуль регулярно обновляется, расширяется и сопровождается примерами использования тех или иных методов. Помимо самих алгоритмов (например k-средних или линейной регрессии) в нем есть множество вспомогательных функций по работе с данными."
   ]
  },
  {
   "cell_type": "markdown",
   "metadata": {
    "deletable": true,
    "editable": true
   },
   "source": [
    "# Туториал: Работа с различными типами признаков"
   ]
  },
  {
   "cell_type": "markdown",
   "metadata": {
    "deletable": true,
    "editable": true
   },
   "source": [
    "Вспомним какие типы признаков могут встретится при описании объектов исследования и как их представить в доступной для обработки компьтером форме"
   ]
  },
  {
   "cell_type": "markdown",
   "metadata": {
    "deletable": true,
    "editable": true
   },
   "source": [
    "Типы признаков мы будем рассматривать на примере довольно популярного набора данных [titanic](https://www.kaggle.com/c/titanic/download/train.csv) - информации о выживаемости пассажиров после известной трагедии корабля Titanic."
   ]
  },
  {
   "cell_type": "raw",
   "metadata": {
    "deletable": true,
    "editable": true
   },
   "source": [
    "ARIABLE DESCRIPTIONS:\n",
    "survival        Survival\n",
    "                (0 = No; 1 = Yes)\n",
    "pclass          Passenger Class\n",
    "                (1 = 1st; 2 = 2nd; 3 = 3rd)\n",
    "name            Name\n",
    "sex             Sex\n",
    "age             Age\n",
    "sibsp           Number of Siblings/Spouses Aboard\n",
    "parch           Number of Parents/Children Aboard\n",
    "ticket          Ticket Number\n",
    "fare            Passenger Fare\n",
    "cabin           Cabin\n",
    "embarked        Port of Embarkation\n",
    "                (C = Cherbourg; Q = Queenstown; S = Southampton)"
   ]
  },
  {
   "cell_type": "code",
   "execution_count": 7,
   "metadata": {
    "collapsed": false,
    "deletable": true,
    "editable": true
   },
   "outputs": [
    {
     "data": {
      "text/html": [
       "<div>\n",
       "<table border=\"1\" class=\"dataframe\">\n",
       "  <thead>\n",
       "    <tr style=\"text-align: right;\">\n",
       "      <th></th>\n",
       "      <th>PassengerId</th>\n",
       "      <th>Survived</th>\n",
       "      <th>Pclass</th>\n",
       "      <th>Name</th>\n",
       "      <th>Sex</th>\n",
       "      <th>Age</th>\n",
       "      <th>SibSp</th>\n",
       "      <th>Parch</th>\n",
       "      <th>Ticket</th>\n",
       "      <th>Fare</th>\n",
       "      <th>Cabin</th>\n",
       "      <th>Embarked</th>\n",
       "    </tr>\n",
       "  </thead>\n",
       "  <tbody>\n",
       "    <tr>\n",
       "      <th>1</th>\n",
       "      <td>2</td>\n",
       "      <td>1</td>\n",
       "      <td>1</td>\n",
       "      <td>Cumings, Mrs. John Bradley (Florence Briggs Th...</td>\n",
       "      <td>female</td>\n",
       "      <td>38.0</td>\n",
       "      <td>1</td>\n",
       "      <td>0</td>\n",
       "      <td>PC 17599</td>\n",
       "      <td>71.2833</td>\n",
       "      <td>C85</td>\n",
       "      <td>C</td>\n",
       "    </tr>\n",
       "    <tr>\n",
       "      <th>3</th>\n",
       "      <td>4</td>\n",
       "      <td>1</td>\n",
       "      <td>1</td>\n",
       "      <td>Futrelle, Mrs. Jacques Heath (Lily May Peel)</td>\n",
       "      <td>female</td>\n",
       "      <td>35.0</td>\n",
       "      <td>1</td>\n",
       "      <td>0</td>\n",
       "      <td>113803</td>\n",
       "      <td>53.1000</td>\n",
       "      <td>C123</td>\n",
       "      <td>S</td>\n",
       "    </tr>\n",
       "    <tr>\n",
       "      <th>6</th>\n",
       "      <td>7</td>\n",
       "      <td>0</td>\n",
       "      <td>1</td>\n",
       "      <td>McCarthy, Mr. Timothy J</td>\n",
       "      <td>male</td>\n",
       "      <td>54.0</td>\n",
       "      <td>0</td>\n",
       "      <td>0</td>\n",
       "      <td>17463</td>\n",
       "      <td>51.8625</td>\n",
       "      <td>E46</td>\n",
       "      <td>S</td>\n",
       "    </tr>\n",
       "    <tr>\n",
       "      <th>10</th>\n",
       "      <td>11</td>\n",
       "      <td>1</td>\n",
       "      <td>3</td>\n",
       "      <td>Sandstrom, Miss. Marguerite Rut</td>\n",
       "      <td>female</td>\n",
       "      <td>4.0</td>\n",
       "      <td>1</td>\n",
       "      <td>1</td>\n",
       "      <td>PP 9549</td>\n",
       "      <td>16.7000</td>\n",
       "      <td>G6</td>\n",
       "      <td>S</td>\n",
       "    </tr>\n",
       "    <tr>\n",
       "      <th>11</th>\n",
       "      <td>12</td>\n",
       "      <td>1</td>\n",
       "      <td>1</td>\n",
       "      <td>Bonnell, Miss. Elizabeth</td>\n",
       "      <td>female</td>\n",
       "      <td>58.0</td>\n",
       "      <td>0</td>\n",
       "      <td>0</td>\n",
       "      <td>113783</td>\n",
       "      <td>26.5500</td>\n",
       "      <td>C103</td>\n",
       "      <td>S</td>\n",
       "    </tr>\n",
       "  </tbody>\n",
       "</table>\n",
       "</div>"
      ],
      "text/plain": [
       "    PassengerId  Survived  Pclass  \\\n",
       "1             2         1       1   \n",
       "3             4         1       1   \n",
       "6             7         0       1   \n",
       "10           11         1       3   \n",
       "11           12         1       1   \n",
       "\n",
       "                                                 Name     Sex   Age  SibSp  \\\n",
       "1   Cumings, Mrs. John Bradley (Florence Briggs Th...  female  38.0      1   \n",
       "3        Futrelle, Mrs. Jacques Heath (Lily May Peel)  female  35.0      1   \n",
       "6                             McCarthy, Mr. Timothy J    male  54.0      0   \n",
       "10                    Sandstrom, Miss. Marguerite Rut  female   4.0      1   \n",
       "11                           Bonnell, Miss. Elizabeth  female  58.0      0   \n",
       "\n",
       "    Parch    Ticket     Fare Cabin Embarked  \n",
       "1       0  PC 17599  71.2833   C85        C  \n",
       "3       0    113803  53.1000  C123        S  \n",
       "6       0     17463  51.8625   E46        S  \n",
       "10      1   PP 9549  16.7000    G6        S  \n",
       "11      0    113783  26.5500  C103        S  "
      ]
     },
     "execution_count": 7,
     "metadata": {},
     "output_type": "execute_result"
    }
   ],
   "source": [
    "df_titanic = pd.read_csv('train.csv', sep=',').dropna()\n",
    "df_titanic.head()"
   ]
  },
  {
   "cell_type": "markdown",
   "metadata": {
    "deletable": true,
    "editable": true
   },
   "source": [
    "## Бинарные признаки\n",
    "Это признаки с двумя возможными значениями\n",
    "* Пол (мужской, женский)\n",
    "* Выжил (да, нет)\n",
    "\n",
    "На вход в алгоритмы обычно подаются в виде значений `{0, 1}` (реже в виде `{-1, 1}`)"
   ]
  },
  {
   "cell_type": "code",
   "execution_count": 8,
   "metadata": {
    "collapsed": false,
    "deletable": true,
    "editable": true
   },
   "outputs": [
    {
     "data": {
      "text/plain": [
       "1    123\n",
       "0     60\n",
       "Name: Survived, dtype: int64"
      ]
     },
     "execution_count": 8,
     "metadata": {},
     "output_type": "execute_result"
    }
   ],
   "source": [
    "# Здесь все нормально\n",
    "df_titanic.Survived.value_counts()"
   ]
  },
  {
   "cell_type": "code",
   "execution_count": 9,
   "metadata": {
    "collapsed": false,
    "deletable": true,
    "editable": true
   },
   "outputs": [
    {
     "data": {
      "text/plain": [
       "male      95\n",
       "female    88\n",
       "Name: Sex, dtype: int64"
      ]
     },
     "execution_count": 9,
     "metadata": {},
     "output_type": "execute_result"
    }
   ],
   "source": [
    "# Тут стоит выполнить переобознаение\n",
    "df_titanic.Sex.value_counts()"
   ]
  },
  {
   "cell_type": "code",
   "execution_count": 10,
   "metadata": {
    "collapsed": false,
    "deletable": true,
    "editable": true
   },
   "outputs": [
    {
     "data": {
      "text/plain": [
       "0    95\n",
       "1    88\n",
       "Name: Sex, dtype: int64"
      ]
     },
     "execution_count": 10,
     "metadata": {},
     "output_type": "execute_result"
    }
   ],
   "source": [
    "# Например так\n",
    "df_titanic.Sex = df_titanic.Sex.replace({'male': 0, 'female': 1})\n",
    "df_titanic.Sex.value_counts()"
   ]
  },
  {
   "cell_type": "markdown",
   "metadata": {
    "deletable": true,
    "editable": true
   },
   "source": [
    "## Вещественные признаки\n",
    "\n",
    "* Возраст\n",
    "* Сумма, потраченная на билет\n",
    "* Количество родственников на борту\n",
    "\n",
    "Как правило остаются в том же виде или выполняется **нормализация** признаков, т.е. переход к одинаковой шкале, например:\n",
    "\n",
    "* $\\tilde{x} = \\frac{x - \\text{mean}(x)}{\\text{std}(x)}$\n",
    "* $\\tilde{x} = \\frac{x - \\text{min}(x)}{\\text{max}(x) - \\text{min}(x)}$"
   ]
  },
  {
   "cell_type": "markdown",
   "metadata": {
    "deletable": true,
    "editable": true
   },
   "source": [
    "## Категориальные признаки\n",
    "\n",
    "Принимают значения из *неупорядоченного* множества\n",
    "\n",
    "* Порт погрузки (C = Cherbourg; Q = Queenstown; S = Southampton)\n",
    "* Точка отправления (St Louis, MO; Montreal, PQ; .. }\n",
    "* Точка назначения (Chesterville, ON; Roseville, IL; .. }\n",
    "\n",
    "Обычно такие признаки кодируют с помощью так называемого One Hot Encoding: </br>\n",
    "для каждой категории создается бинарная маска-столбец, в которой стоит `1` если значение признака равно значению соответствующей категории категории.\n",
    "\n",
    "Например, для признака \"порт погрзки\" создается бинарная макска из трех стобцов для каждого из портов: С, Q, S<br/>\n",
    "Если пассажир заходил на кораблю в порту Southampton, то его признаковое описание будет соответственно: `[0, 0, 1]`"
   ]
  },
  {
   "cell_type": "code",
   "execution_count": 11,
   "metadata": {
    "collapsed": false,
    "deletable": true,
    "editable": true
   },
   "outputs": [
    {
     "data": {
      "text/plain": [
       "1     C\n",
       "3     S\n",
       "6     S\n",
       "10    S\n",
       "11    S\n",
       "Name: Embarked, dtype: object"
      ]
     },
     "execution_count": 11,
     "metadata": {},
     "output_type": "execute_result"
    }
   ],
   "source": [
    "df_titanic.Embarked.head()"
   ]
  },
  {
   "cell_type": "code",
   "execution_count": 12,
   "metadata": {
    "collapsed": false,
    "deletable": true,
    "editable": true
   },
   "outputs": [
    {
     "data": {
      "text/html": [
       "<div>\n",
       "<table border=\"1\" class=\"dataframe\">\n",
       "  <thead>\n",
       "    <tr style=\"text-align: right;\">\n",
       "      <th></th>\n",
       "      <th>Embarked=C</th>\n",
       "      <th>Embarked=Q</th>\n",
       "      <th>Embarked=S</th>\n",
       "    </tr>\n",
       "  </thead>\n",
       "  <tbody>\n",
       "    <tr>\n",
       "      <th>1</th>\n",
       "      <td>1</td>\n",
       "      <td>0</td>\n",
       "      <td>0</td>\n",
       "    </tr>\n",
       "    <tr>\n",
       "      <th>3</th>\n",
       "      <td>0</td>\n",
       "      <td>0</td>\n",
       "      <td>1</td>\n",
       "    </tr>\n",
       "    <tr>\n",
       "      <th>6</th>\n",
       "      <td>0</td>\n",
       "      <td>0</td>\n",
       "      <td>1</td>\n",
       "    </tr>\n",
       "    <tr>\n",
       "      <th>10</th>\n",
       "      <td>0</td>\n",
       "      <td>0</td>\n",
       "      <td>1</td>\n",
       "    </tr>\n",
       "    <tr>\n",
       "      <th>11</th>\n",
       "      <td>0</td>\n",
       "      <td>0</td>\n",
       "      <td>1</td>\n",
       "    </tr>\n",
       "  </tbody>\n",
       "</table>\n",
       "</div>"
      ],
      "text/plain": [
       "    Embarked=C  Embarked=Q  Embarked=S\n",
       "1            1           0           0\n",
       "3            0           0           1\n",
       "6            0           0           1\n",
       "10           0           0           1\n",
       "11           0           0           1"
      ]
     },
     "execution_count": 12,
     "metadata": {},
     "output_type": "execute_result"
    }
   ],
   "source": [
    "# Сделать в python это можно несколькими способами:\n",
    "\n",
    "# 1: Через pandas (не очень рекомендуется)\n",
    "emb = pd.get_dummies(df_titanic.Embarked, prefix='Embarked', prefix_sep='=')\n",
    "emb.head()"
   ]
  },
  {
   "cell_type": "code",
   "execution_count": 13,
   "metadata": {
    "collapsed": false,
    "deletable": true,
    "editable": true
   },
   "outputs": [
    {
     "data": {
      "text/plain": [
       "array([[ 1.,  0.,  0.],\n",
       "       [ 0.,  0.,  1.],\n",
       "       [ 0.,  0.,  1.],\n",
       "       [ 0.,  0.,  1.],\n",
       "       [ 0.,  0.,  1.]])"
      ]
     },
     "execution_count": 13,
     "metadata": {},
     "output_type": "execute_result"
    }
   ],
   "source": [
    "# 2: Функционал sklearn\n",
    "from sklearn.preprocessing import OneHotEncoder\n",
    "\n",
    "encoder = OneHotEncoder(sparse=False)\n",
    "\n",
    "emb = df_titanic.loc[:, ['Embarked']].replace({'C': 0, 'Q': 1, 'S': 2}).values\n",
    "emb_enc = encoder.fit_transform(emb)\n",
    "emb_enc[:5]"
   ]
  },
  {
   "cell_type": "markdown",
   "metadata": {
    "deletable": true,
    "editable": true
   },
   "source": [
    "Про другием способы работы с категориальными переменными можно прочитать вот [тут](https://alexanderdyakonov.wordpress.com/2016/08/03/python-%D0%BA%D0%B0%D1%82%D0%B5%D0%B3%D0%BE%D1%80%D0%B8%D0%B0%D0%BB%D1%8C%D0%BD%D1%8B%D0%B5-%D0%BF%D1%80%D0%B8%D0%B7%D0%BD%D0%B0%D0%BA%D0%B8/)"
   ]
  },
  {
   "cell_type": "markdown",
   "metadata": {
    "deletable": true,
    "editable": true
   },
   "source": [
    "## Порядковый признаки"
   ]
  },
  {
   "cell_type": "markdown",
   "metadata": {
    "deletable": true,
    "editable": true
   },
   "source": [
    "Принимают значения из *упорядоченного* множества\n",
    "\n",
    "* Класс каюты (1 > 2 > 3)\n",
    "\n",
    "В зависимости от метода остаются можно оставить в исходном виде или применить OneHotEncoding."
   ]
  },
  {
   "cell_type": "markdown",
   "metadata": {
    "deletable": true,
    "editable": true
   },
   "source": [
    "## Текстовые признаки - Bag of words"
   ]
  },
  {
   "cell_type": "markdown",
   "metadata": {
    "deletable": true,
    "editable": true
   },
   "source": [
    "Для демонстрации возьмем текст стихотворения Блока:\n",
    "\n",
    "Ночь, улица, фонарь, аптека,<br/>\n",
    "Бессмысленный и тусклый свет.<br/>\n",
    "Живи еще хоть четверть века -<br/>\n",
    "Все будет так. Исхода нет.<br/>\n",
    "\n",
    "Умрешь - начнешь опять сначала<br/>\n",
    "И повторится все, как встарь:<br/>\n",
    "Ночь, ледяная рябь канала,<br/>\n",
    "Аптека, улица, фонарь.<br/>\n",
    "\n",
    "Пусть каждая строчка - это будет условный документ. Переведем эти документы в числовое представление по методу мешка слов (Bag Of Words)"
   ]
  },
  {
   "cell_type": "code",
   "execution_count": 14,
   "metadata": {
    "collapsed": false,
    "deletable": true,
    "editable": true
   },
   "outputs": [],
   "source": [
    "from sklearn.feature_extraction.text import CountVectorizer\n",
    "from sklearn.feature_extraction.text import TfidfVectorizer\n",
    "\n",
    "corpus = \\\n",
    "[u'Ночь, улица, фонарь, аптека,',\n",
    " u'Бессмысленный и тусклый свет.',\n",
    " u'Живи еще хоть четверть века -',\n",
    " u'Все будет так. Исхода нет.',\n",
    " u'Умрешь - начнешь опять сначала',\n",
    " u'И повторится все, как встарь:',\n",
    " u'Ночь, ледяная рябь канала,',\n",
    " u'Аптека, улица, фонарь.']"
   ]
  },
  {
   "cell_type": "code",
   "execution_count": 15,
   "metadata": {
    "collapsed": false,
    "deletable": true,
    "editable": true
   },
   "outputs": [
    {
     "data": {
      "text/plain": [
       "(8L, 27L)"
      ]
     },
     "execution_count": 15,
     "metadata": {},
     "output_type": "execute_result"
    }
   ],
   "source": [
    "vect = CountVectorizer()\n",
    "\n",
    "bow = vect.fit_transform(corpus)\n",
    "bow = bow.toarray()\n",
    "bow.shape"
   ]
  },
  {
   "cell_type": "markdown",
   "metadata": {
    "deletable": true,
    "editable": true
   },
   "source": [
    "Получили матрицу размера $8 \\times 27$, так как у нас 8 строчек и выделилось 27 униальных слов. Элемент матрицы показывает сколько раз слово встречалось в соответствующем документе."
   ]
  },
  {
   "cell_type": "code",
   "execution_count": 16,
   "metadata": {
    "collapsed": false,
    "deletable": true,
    "editable": true
   },
   "outputs": [
    {
     "data": {
      "text/plain": [
       "array([[1, 0, 0, 0, 0, 0, 0, 0, 0, 0, 0, 0, 0, 0, 1, 0, 0, 0, 0, 0, 0, 0,\n",
       "        1, 0, 1, 0, 0],\n",
       "       [0, 1, 0, 0, 0, 0, 0, 0, 0, 0, 0, 0, 0, 0, 0, 0, 0, 0, 1, 0, 0, 1,\n",
       "        0, 0, 0, 0, 0],\n",
       "       [0, 0, 0, 1, 0, 0, 1, 1, 0, 0, 0, 0, 0, 0, 0, 0, 0, 0, 0, 0, 0, 0,\n",
       "        0, 0, 0, 1, 1],\n",
       "       [0, 0, 1, 0, 1, 0, 0, 0, 1, 0, 0, 0, 0, 1, 0, 0, 0, 0, 0, 0, 1, 0,\n",
       "        0, 0, 0, 0, 0],\n",
       "       [0, 0, 0, 0, 0, 0, 0, 0, 0, 0, 0, 0, 1, 0, 0, 1, 0, 0, 0, 1, 0, 0,\n",
       "        0, 1, 0, 0, 0],\n",
       "       [0, 0, 0, 0, 1, 1, 0, 0, 0, 1, 0, 0, 0, 0, 0, 0, 1, 0, 0, 0, 0, 0,\n",
       "        0, 0, 0, 0, 0],\n",
       "       [0, 0, 0, 0, 0, 0, 0, 0, 0, 0, 1, 1, 0, 0, 1, 0, 0, 1, 0, 0, 0, 0,\n",
       "        0, 0, 0, 0, 0],\n",
       "       [1, 0, 0, 0, 0, 0, 0, 0, 0, 0, 0, 0, 0, 0, 0, 0, 0, 0, 0, 0, 0, 0,\n",
       "        1, 0, 1, 0, 0]], dtype=int64)"
      ]
     },
     "execution_count": 16,
     "metadata": {},
     "output_type": "execute_result"
    }
   ],
   "source": [
    "bow"
   ]
  },
  {
   "cell_type": "code",
   "execution_count": 17,
   "metadata": {
    "collapsed": false,
    "deletable": true,
    "editable": true
   },
   "outputs": [
    {
     "name": "stdout",
     "output_type": "stream",
     "text": [
      "столбец 0: аптека\n",
      "столбец 1: бессмысленный\n",
      "столбец 2: будет\n",
      "столбец 3: века\n",
      "столбец 4: все\n",
      "столбец 5: встарь\n",
      "столбец 6: еще\n",
      "столбец 7: живи\n",
      "столбец 8: исхода\n",
      "столбец 9: как\n",
      "столбец 10: канала\n",
      "столбец 11: ледяная\n",
      "столбец 12: начнешь\n",
      "столбец 13: нет\n",
      "столбец 14: ночь\n",
      "столбец 15: опять\n",
      "столбец 16: повторится\n",
      "столбец 17: рябь\n",
      "столбец 18: свет\n",
      "столбец 19: сначала\n",
      "столбец 20: так\n",
      "столбец 21: тусклый\n",
      "столбец 22: улица\n",
      "столбец 23: умрешь\n",
      "столбец 24: фонарь\n",
      "столбец 25: хоть\n",
      "столбец 26: четверть\n"
     ]
    }
   ],
   "source": [
    "# Посмотрим какие слова стоят по столбцам\n",
    "for i, w in enumerate(vect.get_feature_names()):\n",
    "    print u'столбец %d: %s' % (i, w)"
   ]
  },
  {
   "cell_type": "markdown",
   "metadata": {
    "deletable": true,
    "editable": true
   },
   "source": [
    "# Туториал: Имплементация собственного метода"
   ]
  },
  {
   "cell_type": "markdown",
   "metadata": {
    "deletable": true,
    "editable": true
   },
   "source": [
    "Для решения задач вида \"имплементируйте метод X\" крайне желательно (но необязательно) реализовывать методы с помощью интерфейса sklearn. Ниже вы увидите пример очень простого **классификатора**. Используйте эти наработи для выполнения задания."
   ]
  },
  {
   "cell_type": "markdown",
   "metadata": {
    "deletable": true,
    "editable": true
   },
   "source": [
    "Загрузите [датасет](https://archive.ics.uci.edu/ml/machine-learning-databases/wine-quality/winequality-red.csv) с информацией о характеристиках вина и его качестве. (В метод `pd.read_csv()` можно подать веб-ссылку на данные и пандас их скачает и преобразует в `DataFrame`)."
   ]
  },
  {
   "cell_type": "code",
   "execution_count": 18,
   "metadata": {
    "collapsed": false,
    "deletable": true,
    "editable": true
   },
   "outputs": [],
   "source": [
    "df_wine = pd.read_csv('https://archive.ics.uci.edu/ml/machine-learning-databases/wine-quality/winequality-red.csv', sep=';')"
   ]
  },
  {
   "cell_type": "code",
   "execution_count": 19,
   "metadata": {
    "collapsed": false,
    "deletable": true,
    "editable": true
   },
   "outputs": [
    {
     "data": {
      "text/html": [
       "<div>\n",
       "<table border=\"1\" class=\"dataframe\">\n",
       "  <thead>\n",
       "    <tr style=\"text-align: right;\">\n",
       "      <th></th>\n",
       "      <th>fixed acidity</th>\n",
       "      <th>volatile acidity</th>\n",
       "      <th>citric acid</th>\n",
       "      <th>residual sugar</th>\n",
       "      <th>chlorides</th>\n",
       "      <th>free sulfur dioxide</th>\n",
       "      <th>total sulfur dioxide</th>\n",
       "      <th>density</th>\n",
       "      <th>pH</th>\n",
       "      <th>sulphates</th>\n",
       "      <th>alcohol</th>\n",
       "      <th>quality</th>\n",
       "    </tr>\n",
       "  </thead>\n",
       "  <tbody>\n",
       "    <tr>\n",
       "      <th>0</th>\n",
       "      <td>7.4</td>\n",
       "      <td>0.70</td>\n",
       "      <td>0.00</td>\n",
       "      <td>1.9</td>\n",
       "      <td>0.076</td>\n",
       "      <td>11.0</td>\n",
       "      <td>34.0</td>\n",
       "      <td>0.9978</td>\n",
       "      <td>3.51</td>\n",
       "      <td>0.56</td>\n",
       "      <td>9.4</td>\n",
       "      <td>5</td>\n",
       "    </tr>\n",
       "    <tr>\n",
       "      <th>1</th>\n",
       "      <td>7.8</td>\n",
       "      <td>0.88</td>\n",
       "      <td>0.00</td>\n",
       "      <td>2.6</td>\n",
       "      <td>0.098</td>\n",
       "      <td>25.0</td>\n",
       "      <td>67.0</td>\n",
       "      <td>0.9968</td>\n",
       "      <td>3.20</td>\n",
       "      <td>0.68</td>\n",
       "      <td>9.8</td>\n",
       "      <td>5</td>\n",
       "    </tr>\n",
       "    <tr>\n",
       "      <th>2</th>\n",
       "      <td>7.8</td>\n",
       "      <td>0.76</td>\n",
       "      <td>0.04</td>\n",
       "      <td>2.3</td>\n",
       "      <td>0.092</td>\n",
       "      <td>15.0</td>\n",
       "      <td>54.0</td>\n",
       "      <td>0.9970</td>\n",
       "      <td>3.26</td>\n",
       "      <td>0.65</td>\n",
       "      <td>9.8</td>\n",
       "      <td>5</td>\n",
       "    </tr>\n",
       "    <tr>\n",
       "      <th>3</th>\n",
       "      <td>11.2</td>\n",
       "      <td>0.28</td>\n",
       "      <td>0.56</td>\n",
       "      <td>1.9</td>\n",
       "      <td>0.075</td>\n",
       "      <td>17.0</td>\n",
       "      <td>60.0</td>\n",
       "      <td>0.9980</td>\n",
       "      <td>3.16</td>\n",
       "      <td>0.58</td>\n",
       "      <td>9.8</td>\n",
       "      <td>6</td>\n",
       "    </tr>\n",
       "    <tr>\n",
       "      <th>4</th>\n",
       "      <td>7.4</td>\n",
       "      <td>0.70</td>\n",
       "      <td>0.00</td>\n",
       "      <td>1.9</td>\n",
       "      <td>0.076</td>\n",
       "      <td>11.0</td>\n",
       "      <td>34.0</td>\n",
       "      <td>0.9978</td>\n",
       "      <td>3.51</td>\n",
       "      <td>0.56</td>\n",
       "      <td>9.4</td>\n",
       "      <td>5</td>\n",
       "    </tr>\n",
       "  </tbody>\n",
       "</table>\n",
       "</div>"
      ],
      "text/plain": [
       "   fixed acidity  volatile acidity  citric acid  residual sugar  chlorides  \\\n",
       "0            7.4              0.70         0.00             1.9      0.076   \n",
       "1            7.8              0.88         0.00             2.6      0.098   \n",
       "2            7.8              0.76         0.04             2.3      0.092   \n",
       "3           11.2              0.28         0.56             1.9      0.075   \n",
       "4            7.4              0.70         0.00             1.9      0.076   \n",
       "\n",
       "   free sulfur dioxide  total sulfur dioxide  density    pH  sulphates  \\\n",
       "0                 11.0                  34.0   0.9978  3.51       0.56   \n",
       "1                 25.0                  67.0   0.9968  3.20       0.68   \n",
       "2                 15.0                  54.0   0.9970  3.26       0.65   \n",
       "3                 17.0                  60.0   0.9980  3.16       0.58   \n",
       "4                 11.0                  34.0   0.9978  3.51       0.56   \n",
       "\n",
       "   alcohol  quality  \n",
       "0      9.4        5  \n",
       "1      9.8        5  \n",
       "2      9.8        5  \n",
       "3      9.8        6  \n",
       "4      9.4        5  "
      ]
     },
     "execution_count": 19,
     "metadata": {},
     "output_type": "execute_result"
    }
   ],
   "source": [
    "df_wine.head()"
   ]
  },
  {
   "cell_type": "markdown",
   "metadata": {
    "deletable": true,
    "editable": true
   },
   "source": [
    "Наша задача состоит в предсказании целевого признака `quality` по остальным признакам. `quality` - это вещественная переменная (оценка качества от 0 до 10). Упростим себе задачу - создадим новый столбец `quality_cat` по следующим правилам:\n",
    "\n",
    "* `quality_cat = 1` если `quality > 5` \n",
    "* `quality_cat = 0` - иначе \n",
    "\n",
    "Таким образом, `quality_cat` характерует \"плохое\" и \"хорошее\" вино."
   ]
  },
  {
   "cell_type": "code",
   "execution_count": 20,
   "metadata": {
    "collapsed": false,
    "deletable": true,
    "editable": true
   },
   "outputs": [],
   "source": [
    "def prepocess_wine(df):\n",
    "    df.loc[:, 'quality_cat'] = (df.loc[:, 'quality'] > 5).astype(int)\n",
    "    df = df.drop('quality', axis=1)\n",
    "    \n",
    "    return df"
   ]
  },
  {
   "cell_type": "code",
   "execution_count": 21,
   "metadata": {
    "collapsed": false,
    "deletable": true,
    "editable": true
   },
   "outputs": [
    {
     "data": {
      "text/html": [
       "<div>\n",
       "<table border=\"1\" class=\"dataframe\">\n",
       "  <thead>\n",
       "    <tr style=\"text-align: right;\">\n",
       "      <th></th>\n",
       "      <th>fixed acidity</th>\n",
       "      <th>volatile acidity</th>\n",
       "      <th>citric acid</th>\n",
       "      <th>residual sugar</th>\n",
       "      <th>chlorides</th>\n",
       "      <th>free sulfur dioxide</th>\n",
       "      <th>total sulfur dioxide</th>\n",
       "      <th>density</th>\n",
       "      <th>pH</th>\n",
       "      <th>sulphates</th>\n",
       "      <th>alcohol</th>\n",
       "      <th>quality_cat</th>\n",
       "    </tr>\n",
       "  </thead>\n",
       "  <tbody>\n",
       "    <tr>\n",
       "      <th>0</th>\n",
       "      <td>7.4</td>\n",
       "      <td>0.70</td>\n",
       "      <td>0.00</td>\n",
       "      <td>1.9</td>\n",
       "      <td>0.076</td>\n",
       "      <td>11.0</td>\n",
       "      <td>34.0</td>\n",
       "      <td>0.9978</td>\n",
       "      <td>3.51</td>\n",
       "      <td>0.56</td>\n",
       "      <td>9.4</td>\n",
       "      <td>0</td>\n",
       "    </tr>\n",
       "    <tr>\n",
       "      <th>1</th>\n",
       "      <td>7.8</td>\n",
       "      <td>0.88</td>\n",
       "      <td>0.00</td>\n",
       "      <td>2.6</td>\n",
       "      <td>0.098</td>\n",
       "      <td>25.0</td>\n",
       "      <td>67.0</td>\n",
       "      <td>0.9968</td>\n",
       "      <td>3.20</td>\n",
       "      <td>0.68</td>\n",
       "      <td>9.8</td>\n",
       "      <td>0</td>\n",
       "    </tr>\n",
       "    <tr>\n",
       "      <th>2</th>\n",
       "      <td>7.8</td>\n",
       "      <td>0.76</td>\n",
       "      <td>0.04</td>\n",
       "      <td>2.3</td>\n",
       "      <td>0.092</td>\n",
       "      <td>15.0</td>\n",
       "      <td>54.0</td>\n",
       "      <td>0.9970</td>\n",
       "      <td>3.26</td>\n",
       "      <td>0.65</td>\n",
       "      <td>9.8</td>\n",
       "      <td>0</td>\n",
       "    </tr>\n",
       "    <tr>\n",
       "      <th>3</th>\n",
       "      <td>11.2</td>\n",
       "      <td>0.28</td>\n",
       "      <td>0.56</td>\n",
       "      <td>1.9</td>\n",
       "      <td>0.075</td>\n",
       "      <td>17.0</td>\n",
       "      <td>60.0</td>\n",
       "      <td>0.9980</td>\n",
       "      <td>3.16</td>\n",
       "      <td>0.58</td>\n",
       "      <td>9.8</td>\n",
       "      <td>1</td>\n",
       "    </tr>\n",
       "    <tr>\n",
       "      <th>4</th>\n",
       "      <td>7.4</td>\n",
       "      <td>0.70</td>\n",
       "      <td>0.00</td>\n",
       "      <td>1.9</td>\n",
       "      <td>0.076</td>\n",
       "      <td>11.0</td>\n",
       "      <td>34.0</td>\n",
       "      <td>0.9978</td>\n",
       "      <td>3.51</td>\n",
       "      <td>0.56</td>\n",
       "      <td>9.4</td>\n",
       "      <td>0</td>\n",
       "    </tr>\n",
       "  </tbody>\n",
       "</table>\n",
       "</div>"
      ],
      "text/plain": [
       "   fixed acidity  volatile acidity  citric acid  residual sugar  chlorides  \\\n",
       "0            7.4              0.70         0.00             1.9      0.076   \n",
       "1            7.8              0.88         0.00             2.6      0.098   \n",
       "2            7.8              0.76         0.04             2.3      0.092   \n",
       "3           11.2              0.28         0.56             1.9      0.075   \n",
       "4            7.4              0.70         0.00             1.9      0.076   \n",
       "\n",
       "   free sulfur dioxide  total sulfur dioxide  density    pH  sulphates  \\\n",
       "0                 11.0                  34.0   0.9978  3.51       0.56   \n",
       "1                 25.0                  67.0   0.9968  3.20       0.68   \n",
       "2                 15.0                  54.0   0.9970  3.26       0.65   \n",
       "3                 17.0                  60.0   0.9980  3.16       0.58   \n",
       "4                 11.0                  34.0   0.9978  3.51       0.56   \n",
       "\n",
       "   alcohol  quality_cat  \n",
       "0      9.4            0  \n",
       "1      9.8            0  \n",
       "2      9.8            0  \n",
       "3      9.8            1  \n",
       "4      9.4            0  "
      ]
     },
     "execution_count": 21,
     "metadata": {},
     "output_type": "execute_result"
    }
   ],
   "source": [
    "df_wine = df_wine.pipe(prepocess_wine)\n",
    "df_wine.head()"
   ]
  },
  {
   "cell_type": "markdown",
   "metadata": {
    "deletable": true,
    "editable": true
   },
   "source": [
    "Нарисуем распределение хорошего и плохого вина по признаку `alcohol`."
   ]
  },
  {
   "cell_type": "code",
   "execution_count": 22,
   "metadata": {
    "collapsed": false,
    "deletable": true,
    "editable": true
   },
   "outputs": [
    {
     "data": {
      "text/plain": [
       "<matplotlib.legend.Legend at 0xb6574e0>"
      ]
     },
     "execution_count": 22,
     "metadata": {},
     "output_type": "execute_result"
    },
    {
     "data": {
      "image/png": "[encoded data removed]",
      "text/plain": [
       "<matplotlib.figure.Figure at 0xb657358>"
      ]
     },
     "metadata": {},
     "output_type": "display_data"
    }
   ],
   "source": [
    "_, ax = plt.subplots(1,1)\n",
    "df_wine.query('quality_cat == 1').hist('alcohol', alpha=0.3, bins=20, label='good', ax=ax)\n",
    "df_wine.query('quality_cat == 0').hist('alcohol', alpha=0.3, bins=20, label='bad', ax=ax)\n",
    "ax.set_xlabel('alcohol')\n",
    "ax.set_ylabel('count')\n",
    "plt.legend()"
   ]
  },
  {
   "cell_type": "markdown",
   "metadata": {
    "deletable": true,
    "editable": true
   },
   "source": [
    "Визуально кажется, что можно найти некоторое пороговое значение признака `alcohol` $\\theta$, чтобы хорошо дискриминировать между плохими и хорошим вином:\n",
    "* Если `alcohol >` $\\theta$ - то предсказываем, что вино хорошее\n",
    "* Если `alcohol <=` $\\theta$ - то предсказываем, что вино плохое\n",
    "\n",
    "Обучаеть классификатор будем очень просто: перебирать значения признака alchol и считать **ошибку** классификации. То значение, где ошибка минимальна и будет оптимальным.\n",
    "\n",
    "Разделим целевой признак от остальных признаков"
   ]
  },
  {
   "cell_type": "code",
   "execution_count": 23,
   "metadata": {
    "collapsed": false,
    "deletable": true,
    "editable": true
   },
   "outputs": [],
   "source": [
    "X, y = df_wine.iloc[:, :-1].values, df_wine.iloc[:, -1].values"
   ]
  },
  {
   "cell_type": "markdown",
   "metadata": {
    "deletable": true,
    "editable": true
   },
   "source": [
    "Далее вы увидете пример реализации этого простого классификатора."
   ]
  },
  {
   "cell_type": "code",
   "execution_count": 24,
   "metadata": {
    "collapsed": true,
    "deletable": true,
    "editable": true
   },
   "outputs": [],
   "source": [
    "from sklearn.base import BaseEstimator, ClassifierMixin\n",
    "\n",
    "class SimpleClassifier(BaseEstimator, ClassifierMixin): \n",
    "    \n",
    "    def __init__(self):\n",
    "        \"\"\"\n",
    "        Инициализация метода\n",
    "        \"\"\"\n",
    "        \n",
    "        self.threshold = 0\n",
    "\n",
    "    def fit(self, X, y=None):\n",
    "        \"\"\"\n",
    "        Выполняет процедуру обучения классификатора. В данном случае - перебор занчения признака alcohol.\n",
    "        Договоримся, что признак alcohol будет в последнем столбце матрицы X\n",
    "        \"\"\"\n",
    "        \n",
    "        alcohol = X[:,-1]\n",
    "        n = float(y.shape[0])\n",
    "        \n",
    "        # Задаем пространство поиска\n",
    "        alco_range = np.arange(alcohol.min(), alcohol.max(), 0.1)\n",
    "        \n",
    "        min_error_rate = 1\n",
    "                \n",
    "        #  Начинаем поиск\n",
    "        for theta in alco_range:\n",
    "            prediction = alcohol > theta\n",
    "            \n",
    "            error_rate = sum(prediction != y)/n\n",
    "            \n",
    "            if error_rate < min_error_rate:\n",
    "                min_error_rate = error_rate\n",
    "                self.threshold = theta  \n",
    "        \n",
    "        return self\n",
    "\n",
    "    def predict(self, X, y=None):\n",
    "        \"\"\"\n",
    "        Процедура предсказания класса по обученному порогу\n",
    "        \"\"\"\n",
    "        \n",
    "        return (X[:,-1] > self.threshold).astype(int)"
   ]
  },
  {
   "cell_type": "markdown",
   "metadata": {
    "deletable": true,
    "editable": true
   },
   "source": [
    "Обучаем модель"
   ]
  },
  {
   "cell_type": "code",
   "execution_count": 25,
   "metadata": {
    "collapsed": false,
    "deletable": true,
    "editable": true
   },
   "outputs": [
    {
     "name": "stdout",
     "output_type": "stream",
     "text": [
      "Оптимальный порог: 10.000000\n"
     ]
    }
   ],
   "source": [
    "model = SimpleClassifier()\n",
    "model.fit(X, y)\n",
    "\n",
    "print 'Оптимальный порог: %f' % model.threshold"
   ]
  },
  {
   "cell_type": "markdown",
   "metadata": {
    "deletable": true,
    "editable": true
   },
   "source": [
    "Получаем предсказание модели (на обучающей выборке)"
   ]
  },
  {
   "cell_type": "code",
   "execution_count": 26,
   "metadata": {
    "collapsed": true,
    "deletable": true,
    "editable": true
   },
   "outputs": [],
   "source": [
    "y_hat = model.predict(X)"
   ]
  },
  {
   "cell_type": "markdown",
   "metadata": {
    "deletable": true,
    "editable": true
   },
   "source": [
    "Оценим долю ошибок на обучающей выборке"
   ]
  },
  {
   "cell_type": "code",
   "execution_count": 27,
   "metadata": {
    "collapsed": false,
    "deletable": true,
    "editable": true
   },
   "outputs": [
    {
     "name": "stdout",
     "output_type": "stream",
     "text": [
      "Доля ошибок на обучающей выборке: 0.295184\n"
     ]
    }
   ],
   "source": [
    "error_rate = sum(y_hat != y)/float(y.shape[0])\n",
    "print 'Доля ошибок на обучающей выборке: %f' % error_rate"
   ]
  },
  {
   "cell_type": "markdown",
   "metadata": {
    "deletable": true,
    "editable": true
   },
   "source": [
    "## Проверка метода на контрольной выборке\n",
    "\n",
    "Мы обучили наш метод на данных о красном виде. \n",
    "\n",
    "Посмотрим, выполняется ли так же хорошо закономерность между качеством и уровнем алкоголя в белом вине."
   ]
  },
  {
   "cell_type": "code",
   "execution_count": 28,
   "metadata": {
    "collapsed": false,
    "deletable": true,
    "editable": true
   },
   "outputs": [
    {
     "data": {
      "text/html": [
       "<div>\n",
       "<table border=\"1\" class=\"dataframe\">\n",
       "  <thead>\n",
       "    <tr style=\"text-align: right;\">\n",
       "      <th></th>\n",
       "      <th>fixed acidity</th>\n",
       "      <th>volatile acidity</th>\n",
       "      <th>citric acid</th>\n",
       "      <th>residual sugar</th>\n",
       "      <th>chlorides</th>\n",
       "      <th>free sulfur dioxide</th>\n",
       "      <th>total sulfur dioxide</th>\n",
       "      <th>density</th>\n",
       "      <th>pH</th>\n",
       "      <th>sulphates</th>\n",
       "      <th>alcohol</th>\n",
       "      <th>quality_cat</th>\n",
       "    </tr>\n",
       "  </thead>\n",
       "  <tbody>\n",
       "    <tr>\n",
       "      <th>0</th>\n",
       "      <td>7.0</td>\n",
       "      <td>0.27</td>\n",
       "      <td>0.36</td>\n",
       "      <td>20.7</td>\n",
       "      <td>0.045</td>\n",
       "      <td>45.0</td>\n",
       "      <td>170.0</td>\n",
       "      <td>1.0010</td>\n",
       "      <td>3.00</td>\n",
       "      <td>0.45</td>\n",
       "      <td>8.8</td>\n",
       "      <td>1</td>\n",
       "    </tr>\n",
       "    <tr>\n",
       "      <th>1</th>\n",
       "      <td>6.3</td>\n",
       "      <td>0.30</td>\n",
       "      <td>0.34</td>\n",
       "      <td>1.6</td>\n",
       "      <td>0.049</td>\n",
       "      <td>14.0</td>\n",
       "      <td>132.0</td>\n",
       "      <td>0.9940</td>\n",
       "      <td>3.30</td>\n",
       "      <td>0.49</td>\n",
       "      <td>9.5</td>\n",
       "      <td>1</td>\n",
       "    </tr>\n",
       "    <tr>\n",
       "      <th>2</th>\n",
       "      <td>8.1</td>\n",
       "      <td>0.28</td>\n",
       "      <td>0.40</td>\n",
       "      <td>6.9</td>\n",
       "      <td>0.050</td>\n",
       "      <td>30.0</td>\n",
       "      <td>97.0</td>\n",
       "      <td>0.9951</td>\n",
       "      <td>3.26</td>\n",
       "      <td>0.44</td>\n",
       "      <td>10.1</td>\n",
       "      <td>1</td>\n",
       "    </tr>\n",
       "    <tr>\n",
       "      <th>3</th>\n",
       "      <td>7.2</td>\n",
       "      <td>0.23</td>\n",
       "      <td>0.32</td>\n",
       "      <td>8.5</td>\n",
       "      <td>0.058</td>\n",
       "      <td>47.0</td>\n",
       "      <td>186.0</td>\n",
       "      <td>0.9956</td>\n",
       "      <td>3.19</td>\n",
       "      <td>0.40</td>\n",
       "      <td>9.9</td>\n",
       "      <td>1</td>\n",
       "    </tr>\n",
       "    <tr>\n",
       "      <th>4</th>\n",
       "      <td>7.2</td>\n",
       "      <td>0.23</td>\n",
       "      <td>0.32</td>\n",
       "      <td>8.5</td>\n",
       "      <td>0.058</td>\n",
       "      <td>47.0</td>\n",
       "      <td>186.0</td>\n",
       "      <td>0.9956</td>\n",
       "      <td>3.19</td>\n",
       "      <td>0.40</td>\n",
       "      <td>9.9</td>\n",
       "      <td>1</td>\n",
       "    </tr>\n",
       "  </tbody>\n",
       "</table>\n",
       "</div>"
      ],
      "text/plain": [
       "   fixed acidity  volatile acidity  citric acid  residual sugar  chlorides  \\\n",
       "0            7.0              0.27         0.36            20.7      0.045   \n",
       "1            6.3              0.30         0.34             1.6      0.049   \n",
       "2            8.1              0.28         0.40             6.9      0.050   \n",
       "3            7.2              0.23         0.32             8.5      0.058   \n",
       "4            7.2              0.23         0.32             8.5      0.058   \n",
       "\n",
       "   free sulfur dioxide  total sulfur dioxide  density    pH  sulphates  \\\n",
       "0                 45.0                 170.0   1.0010  3.00       0.45   \n",
       "1                 14.0                 132.0   0.9940  3.30       0.49   \n",
       "2                 30.0                  97.0   0.9951  3.26       0.44   \n",
       "3                 47.0                 186.0   0.9956  3.19       0.40   \n",
       "4                 47.0                 186.0   0.9956  3.19       0.40   \n",
       "\n",
       "   alcohol  quality_cat  \n",
       "0      8.8            1  \n",
       "1      9.5            1  \n",
       "2     10.1            1  \n",
       "3      9.9            1  \n",
       "4      9.9            1  "
      ]
     },
     "execution_count": 28,
     "metadata": {},
     "output_type": "execute_result"
    }
   ],
   "source": [
    "df_wine_test = pd.read_csv('https://archive.ics.uci.edu/ml/machine-learning-databases/wine-quality/winequality-white.csv',\n",
    "                           sep=';')\n",
    "\n",
    "df_wine_test = df_wine_test.pipe(prepocess_wine)\n",
    "df_wine_test.head()"
   ]
  },
  {
   "cell_type": "code",
   "execution_count": 29,
   "metadata": {
    "collapsed": false,
    "deletable": true,
    "editable": true
   },
   "outputs": [],
   "source": [
    "X_test, y_test = df_wine_test.iloc[:, :-1].values, df_wine_test.iloc[:, -1].values\n",
    "y_hat = model.predict(X_test)"
   ]
  },
  {
   "cell_type": "code",
   "execution_count": 30,
   "metadata": {
    "collapsed": false,
    "deletable": true,
    "editable": true
   },
   "outputs": [
    {
     "name": "stdout",
     "output_type": "stream",
     "text": [
      "Доля ошибок на контрольной выборке: 0.312577\n"
     ]
    }
   ],
   "source": [
    "error_rate = sum(y_hat != y_test)/float(y_test.shape[0])\n",
    "print 'Доля ошибок на контрольной выборке: %f' % error_rate"
   ]
  },
  {
   "cell_type": "markdown",
   "metadata": {
    "deletable": true,
    "editable": true
   },
   "source": [
    "Получилось неплохо и это лишь наивный алгоритм на одном признаке! Ну а выводы делайте сами =)"
   ]
  },
  {
   "cell_type": "markdown",
   "metadata": {
    "deletable": true,
    "editable": true
   },
   "source": [
    "# Имплементация K-means\n",
    "\n",
    "Пользуясь наработками выше, имплементируйте метод k-means.</br> При инициализации необходимо задавать количество кластеров, функцию расстояния между кластерами (для оригинального k-means - евклидово расстояние) и начальное состояние генератора случайных чисел.\n",
    "\n",
    "После обучения, среди атрибутов класса `Kmeans` должны появится\n",
    "* Метки кластеров для объектов\n",
    "* Координаты центройдов кластеров\n",
    "\n",
    "k-means - это алгоритм **кластеризации**, а не классификации, а посему метод `.predict()` в нем фактически не нужен, но он может возвращать метки ближайшего кластера для объектов."
   ]
  },
  {
   "cell_type": "markdown",
   "metadata": {
    "deletable": true,
    "editable": true
   },
   "source": [
    "#### Задание 1 (5 баллов)\n",
    "\n",
    "Имплементируйте метод k-means"
   ]
  },
  {
   "cell_type": "code",
   "execution_count": 31,
   "metadata": {
    "collapsed": true,
    "deletable": true,
    "editable": true
   },
   "outputs": [],
   "source": [
    "from sklearn.base import ClusterMixin\n",
    "from sklearn.base import BaseEstimator\n",
    "\n",
    "class Kmeans(BaseEstimator, ClusterMixin): \n",
    "    \n",
    "    def __init__(self, k=3, metric='euclidean', max_iter=1000, random_state=None, eps=0.0001):\n",
    "        \"\"\"\n",
    "        Инициализация метода\n",
    "        :k - количество кластеров\n",
    "        :metric - функция расстояния между объектами\n",
    "        :max_iter - максиальное количество итераций\n",
    "        :random_state - seed для инициализации генератора случайных чисел\n",
    "        \"\"\"\n",
    "        \n",
    "        self.k = k\n",
    "        self.random_state = random_state\n",
    "        self.metric = metric\n",
    "        self.max_iter = max_iter\n",
    "        self.eps = eps\n",
    "              \n",
    "\n",
    "    def fit(self, X, y=None):\n",
    "        \"\"\"\n",
    "        Процедура обучения k-means\n",
    "        \"\"\"\n",
    "        \n",
    "        # Инициализация генератора случайных чисел\n",
    "        np.random.seed(self.random_state)\n",
    "        \n",
    "        # Массив с метками кластеров для каждого объекта из X\n",
    "        self.labels = np.empty(X.shape[0])\n",
    "        \n",
    "        # Массив с центройдами кластеров\n",
    "        self.centroids = np.empty((self.k, X.shape[1]))\n",
    "        \n",
    "        ## Your Code Here\n",
    "        # ...\n",
    "        \n",
    "        X = (X - X.mean(axis=0))/X.std(axis=0)\n",
    "        \n",
    "        centro = np.random.randint(low = 0, high = X.shape[0], size = self.k)\n",
    "        self.centroids[:] = X[centro[:]]\n",
    "        \n",
    "        def dist(x,y): \n",
    "            return np.linalg.norm(x-y)\n",
    "        #lablast = np.copy(self.labels)\n",
    "            \n",
    "        for i in xrange(self.max_iter):\n",
    "            j = 0\n",
    "            lablast = np.copy(self.labels)\n",
    "            for x in X:\n",
    "                a = dist(x,self.centroids[0])\n",
    "                i = 0\n",
    "                b = 0\n",
    "                for y in self.centroids:\n",
    "                    if dist(x,y) < a:\n",
    "                        a = dist(x,y)\n",
    "                        b = i\n",
    "                    i += 1\n",
    "                self.labels[j] = b\n",
    "                j += 1  \n",
    "            df = pd.DataFrame(X, index=self.labels)\n",
    "            df.loc[:, 'cluster2'] = self.labels\n",
    "            p = 0\n",
    "            for i,group in df.groupby('cluster2'):                \n",
    "                self.centroids[p][0] = group.mean()[0]\n",
    "                self.centroids[p][1] = group.mean()[1]\n",
    "                p += 1\n",
    "            if dist(lablast, self.labels) < self.eps:\n",
    "                return self\n",
    "        return self\n",
    "\n",
    "    def predict(self, X, y=None):\n",
    "        \"\"\"\n",
    "        Процедура предсказания кластера\n",
    "        \n",
    "        Возвращает метку ближайшего кластера для каждого объекта\n",
    "        \"\"\"\n",
    "        return self.labels\n",
    "        \n",
    "    def picture(self, X, y=None):    \n",
    "        plt.scatter(X[:,0], X[:, 1], c=self.labels) "
   ]
  },
  {
   "cell_type": "markdown",
   "metadata": {
    "deletable": true,
    "editable": true
   },
   "source": [
    "### Проверка корректности метода\n",
    "\n",
    "Перед тем как применять алгоритм на реальных данных, желатено испытать его на простых \"игрушечных\" данных.\n",
    "\n",
    "Если алгоритм реализован правильно, то метод должен идеально разбивать на 3 кластера данные ниже. Проверьте это."
   ]
  },
  {
   "cell_type": "code",
   "execution_count": 32,
   "metadata": {
    "collapsed": true,
    "deletable": true,
    "editable": true
   },
   "outputs": [],
   "source": [
    "from sklearn.datasets import make_blobs"
   ]
  },
  {
   "cell_type": "code",
   "execution_count": 33,
   "metadata": {
    "collapsed": false,
    "deletable": true,
    "editable": true
   },
   "outputs": [],
   "source": [
    "X, y = make_blobs(n_samples=100, n_features=2, centers=3, cluster_std=1, \n",
    "           center_box=(-10.0, 10.0), shuffle=False, random_state=1234)"
   ]
  },
  {
   "cell_type": "code",
   "execution_count": 34,
   "metadata": {
    "collapsed": false,
    "deletable": true,
    "editable": true
   },
   "outputs": [
    {
     "data": {
      "text/plain": [
       "<matplotlib.collections.PathCollection at 0xbf933c8>"
      ]
     },
     "execution_count": 34,
     "metadata": {},
     "output_type": "execute_result"
    },
    {
     "data": {
      "image/png": "[encoded data removed]",
      "text/plain": [
       "<matplotlib.figure.Figure at 0xbd6e860>"
      ]
     },
     "metadata": {},
     "output_type": "display_data"
    }
   ],
   "source": [
    "plt.scatter(X[:,0], X[:, 1], c=y)"
   ]
  },
  {
   "cell_type": "markdown",
   "metadata": {
    "deletable": true,
    "editable": true
   },
   "source": [
    "#### Задание 2 (1 балл) \n",
    "\n",
    "Проверьте вашу имплементацию на простых данных"
   ]
  },
  {
   "cell_type": "code",
   "execution_count": 35,
   "metadata": {
    "collapsed": false,
    "deletable": true,
    "editable": true
   },
   "outputs": [
    {
     "data": {
      "text/plain": [
       "array([ 1.,  1.,  1.,  1.,  1.,  1.,  1.,  1.,  1.,  1.,  1.,  1.,  1.,\n",
       "        1.,  1.,  1.,  1.,  1.,  1.,  1.,  1.,  1.,  1.,  1.,  1.,  1.,\n",
       "        1.,  1.,  1.,  1.,  1.,  1.,  1.,  1.,  0.,  0.,  0.,  0.,  0.,\n",
       "        0.,  0.,  0.,  0.,  0.,  0.,  0.,  0.,  0.,  0.,  0.,  0.,  0.,\n",
       "        0.,  0.,  0.,  0.,  0.,  0.,  0.,  0.,  0.,  0.,  0.,  0.,  0.,\n",
       "        0.,  0.,  2.,  2.,  2.,  2.,  2.,  2.,  2.,  2.,  2.,  2.,  2.,\n",
       "        2.,  2.,  2.,  2.,  2.,  2.,  2.,  2.,  2.,  2.,  2.,  2.,  2.,\n",
       "        2.,  2.,  2.,  2.,  2.,  2.,  2.,  2.,  2.])"
      ]
     },
     "execution_count": 35,
     "metadata": {},
     "output_type": "execute_result"
    },
    {
     "data": {
      "image/png": "[encoded data removed]",
      "text/plain": [
       "<matplotlib.figure.Figure at 0xbd6ea58>"
      ]
     },
     "metadata": {},
     "output_type": "display_data"
    }
   ],
   "source": [
    "# Your Code Here\n",
    "km = Kmeans(k = 3, random_state = 0).fit(X)\n",
    "plt.scatter(X[:,0], X[:, 1], c=km.predict(X))\n",
    "km.predict(X)"
   ]
  },
  {
   "cell_type": "markdown",
   "metadata": {
    "deletable": true,
    "editable": true
   },
   "source": [
    "# Применение K-means на реальных данных"
   ]
  },
  {
   "cell_type": "markdown",
   "metadata": {
    "deletable": true,
    "editable": true
   },
   "source": [
    "Загрузите [данные](https://github.com/brenden17/sklearnlab/blob/master/facebook/snsdata.csv) в которых содержится описание интересов профилей учеников старшей школы США."
   ]
  },
  {
   "cell_type": "code",
   "execution_count": 36,
   "metadata": {
    "collapsed": false,
    "deletable": true,
    "editable": true,
    "scrolled": true
   },
   "outputs": [
    {
     "data": {
      "text/html": [
       "<div>\n",
       "<table border=\"1\" class=\"dataframe\">\n",
       "  <thead>\n",
       "    <tr style=\"text-align: right;\">\n",
       "      <th></th>\n",
       "      <th>gradyear</th>\n",
       "      <th>gender</th>\n",
       "      <th>age</th>\n",
       "      <th>friends</th>\n",
       "      <th>basketball</th>\n",
       "      <th>football</th>\n",
       "      <th>soccer</th>\n",
       "      <th>softball</th>\n",
       "      <th>volleyball</th>\n",
       "      <th>swimming</th>\n",
       "      <th>...</th>\n",
       "      <th>blonde</th>\n",
       "      <th>mall</th>\n",
       "      <th>shopping</th>\n",
       "      <th>clothes</th>\n",
       "      <th>hollister</th>\n",
       "      <th>abercrombie</th>\n",
       "      <th>die</th>\n",
       "      <th>death</th>\n",
       "      <th>drunk</th>\n",
       "      <th>drugs</th>\n",
       "    </tr>\n",
       "  </thead>\n",
       "  <tbody>\n",
       "    <tr>\n",
       "      <th>0</th>\n",
       "      <td>2006</td>\n",
       "      <td>M</td>\n",
       "      <td>18.982</td>\n",
       "      <td>7</td>\n",
       "      <td>0</td>\n",
       "      <td>0</td>\n",
       "      <td>0</td>\n",
       "      <td>0</td>\n",
       "      <td>0</td>\n",
       "      <td>0</td>\n",
       "      <td>...</td>\n",
       "      <td>0</td>\n",
       "      <td>0</td>\n",
       "      <td>0</td>\n",
       "      <td>0</td>\n",
       "      <td>0</td>\n",
       "      <td>0</td>\n",
       "      <td>0</td>\n",
       "      <td>0</td>\n",
       "      <td>0</td>\n",
       "      <td>0</td>\n",
       "    </tr>\n",
       "    <tr>\n",
       "      <th>1</th>\n",
       "      <td>2006</td>\n",
       "      <td>F</td>\n",
       "      <td>18.801</td>\n",
       "      <td>0</td>\n",
       "      <td>0</td>\n",
       "      <td>1</td>\n",
       "      <td>0</td>\n",
       "      <td>0</td>\n",
       "      <td>0</td>\n",
       "      <td>0</td>\n",
       "      <td>...</td>\n",
       "      <td>0</td>\n",
       "      <td>1</td>\n",
       "      <td>0</td>\n",
       "      <td>0</td>\n",
       "      <td>0</td>\n",
       "      <td>0</td>\n",
       "      <td>0</td>\n",
       "      <td>0</td>\n",
       "      <td>0</td>\n",
       "      <td>0</td>\n",
       "    </tr>\n",
       "    <tr>\n",
       "      <th>2</th>\n",
       "      <td>2006</td>\n",
       "      <td>M</td>\n",
       "      <td>18.335</td>\n",
       "      <td>69</td>\n",
       "      <td>0</td>\n",
       "      <td>1</td>\n",
       "      <td>0</td>\n",
       "      <td>0</td>\n",
       "      <td>0</td>\n",
       "      <td>0</td>\n",
       "      <td>...</td>\n",
       "      <td>0</td>\n",
       "      <td>0</td>\n",
       "      <td>0</td>\n",
       "      <td>0</td>\n",
       "      <td>0</td>\n",
       "      <td>0</td>\n",
       "      <td>0</td>\n",
       "      <td>1</td>\n",
       "      <td>0</td>\n",
       "      <td>0</td>\n",
       "    </tr>\n",
       "    <tr>\n",
       "      <th>3</th>\n",
       "      <td>2006</td>\n",
       "      <td>F</td>\n",
       "      <td>18.875</td>\n",
       "      <td>0</td>\n",
       "      <td>0</td>\n",
       "      <td>0</td>\n",
       "      <td>0</td>\n",
       "      <td>0</td>\n",
       "      <td>0</td>\n",
       "      <td>0</td>\n",
       "      <td>...</td>\n",
       "      <td>0</td>\n",
       "      <td>0</td>\n",
       "      <td>0</td>\n",
       "      <td>0</td>\n",
       "      <td>0</td>\n",
       "      <td>0</td>\n",
       "      <td>0</td>\n",
       "      <td>0</td>\n",
       "      <td>0</td>\n",
       "      <td>0</td>\n",
       "    </tr>\n",
       "    <tr>\n",
       "      <th>4</th>\n",
       "      <td>2006</td>\n",
       "      <td>NaN</td>\n",
       "      <td>18.995</td>\n",
       "      <td>10</td>\n",
       "      <td>0</td>\n",
       "      <td>0</td>\n",
       "      <td>0</td>\n",
       "      <td>0</td>\n",
       "      <td>0</td>\n",
       "      <td>0</td>\n",
       "      <td>...</td>\n",
       "      <td>0</td>\n",
       "      <td>0</td>\n",
       "      <td>2</td>\n",
       "      <td>0</td>\n",
       "      <td>0</td>\n",
       "      <td>0</td>\n",
       "      <td>0</td>\n",
       "      <td>0</td>\n",
       "      <td>1</td>\n",
       "      <td>1</td>\n",
       "    </tr>\n",
       "  </tbody>\n",
       "</table>\n",
       "<p>5 rows × 40 columns</p>\n",
       "</div>"
      ],
      "text/plain": [
       "   gradyear gender     age  friends  basketball  football  soccer  softball  \\\n",
       "0      2006      M  18.982        7           0         0       0         0   \n",
       "1      2006      F  18.801        0           0         1       0         0   \n",
       "2      2006      M  18.335       69           0         1       0         0   \n",
       "3      2006      F  18.875        0           0         0       0         0   \n",
       "4      2006    NaN  18.995       10           0         0       0         0   \n",
       "\n",
       "   volleyball  swimming  ...    blonde  mall  shopping  clothes  hollister  \\\n",
       "0           0         0  ...         0     0         0        0          0   \n",
       "1           0         0  ...         0     1         0        0          0   \n",
       "2           0         0  ...         0     0         0        0          0   \n",
       "3           0         0  ...         0     0         0        0          0   \n",
       "4           0         0  ...         0     0         2        0          0   \n",
       "\n",
       "   abercrombie  die  death  drunk  drugs  \n",
       "0            0    0      0      0      0  \n",
       "1            0    0      0      0      0  \n",
       "2            0    0      1      0      0  \n",
       "3            0    0      0      0      0  \n",
       "4            0    0      0      1      1  \n",
       "\n",
       "[5 rows x 40 columns]"
      ]
     },
     "execution_count": 36,
     "metadata": {},
     "output_type": "execute_result"
    }
   ],
   "source": [
    "df_sns = pd.read_csv('snsdata.csv', sep=',')\n",
    "df_sns.head()"
   ]
  },
  {
   "cell_type": "markdown",
   "metadata": {
    "deletable": true,
    "editable": true
   },
   "source": [
    "Данные устроены так: \n",
    "* Год выпуска\n",
    "* Пол\n",
    "* Возраст\n",
    "* Количество друзей\n",
    "* 36 ключевых слов, которые встречаются в профилe facebook (интересы, сообщества, встречи)"
   ]
  },
  {
   "cell_type": "markdown",
   "metadata": {
    "deletable": true,
    "editable": true
   },
   "source": [
    "#### Задание 3 (4 балла)\n",
    "\n",
    "* Удалите все признаки кроме 36 ключевых слов.\n",
    "* Нормализуйте данные - из каждого столбца вычтите его среднее значение и поделите на стандартное отклонение.\n",
    "* Используйте метод k-means чтобы выделить 9 кластеров\n",
    "* Попробуйте проинтерпретировать каждый кластер проанализировав полученные центройды (Некоторые кластеры могут быть очень большие и очень маленькие - плохо интерпретируются)"
   ]
  },
  {
   "cell_type": "code",
   "execution_count": 37,
   "metadata": {
    "collapsed": false,
    "deletable": true,
    "editable": true
   },
   "outputs": [],
   "source": [
    "## Your Code Here\n",
    "Z = df_sns.iloc[:, 4:].values"
   ]
  },
  {
   "cell_type": "code",
   "execution_count": 38,
   "metadata": {
    "collapsed": true,
    "deletable": true,
    "editable": true
   },
   "outputs": [],
   "source": [
    "Z = (Z - Z.mean(axis=0))/Z.std(axis=0)"
   ]
  },
  {
   "cell_type": "code",
   "execution_count": 39,
   "metadata": {
    "collapsed": false,
    "deletable": true,
    "editable": true
   },
   "outputs": [
    {
     "data": {
      "text/plain": [
       "array([ 1.,  1.,  1., ...,  1.,  1.,  6.])"
      ]
     },
     "execution_count": 39,
     "metadata": {},
     "output_type": "execute_result"
    }
   ],
   "source": [
    "km_sns = Kmeans(k = 9, random_state = 0).fit(Z)\n",
    "#km_sns.picture(Z)\n",
    "km_sns.predict(Z)"
   ]
  },
  {
   "cell_type": "code",
   "execution_count": 40,
   "metadata": {
    "collapsed": false,
    "deletable": true,
    "editable": true
   },
   "outputs": [],
   "source": [
    "df_sns.loc[:, 'cluster'] = km_sns.predict(Z)"
   ]
  },
  {
   "cell_type": "code",
   "execution_count": 41,
   "metadata": {
    "collapsed": false,
    "deletable": true,
    "editable": true
   },
   "outputs": [],
   "source": [
    "#df_sns.head()"
   ]
  },
  {
   "cell_type": "code",
   "execution_count": 42,
   "metadata": {
    "collapsed": false,
    "deletable": true,
    "editable": true
   },
   "outputs": [
    {
     "name": "stdout",
     "output_type": "stream",
     "text": [
      "= cluster 0 =\n",
      "basketball      0.398601\n",
      "football        0.307692\n",
      "soccer          0.629371\n",
      "softball        0.069930\n",
      "volleyball      0.265734\n",
      "swimming        0.706294\n",
      "cheerleading    0.097902\n",
      "baseball        0.090909\n",
      "tennis          0.167832\n",
      "sports          0.188811\n",
      "cute            0.314685\n",
      "sex             0.342657\n",
      "sexy            0.069930\n",
      "hot             0.188811\n",
      "kissed          0.174825\n",
      "dance           0.377622\n",
      "band            0.510490\n",
      "marching        0.048951\n",
      "music           1.545455\n",
      "rock            0.489510\n",
      "god             3.587413\n",
      "church          1.356643\n",
      "jesus           1.447552\n",
      "bible           2.125874\n",
      "hair            0.615385\n",
      "dress           0.125874\n",
      "blonde          0.188811\n",
      "mall            0.167832\n",
      "shopping        0.517483\n",
      "clothes         0.251748\n",
      "hollister       0.104895\n",
      "abercrombie     0.076923\n",
      "die             0.363636\n",
      "death           0.293706\n",
      "drunk           0.076923\n",
      "drugs           0.195804\n",
      "cluster         0.000000\n",
      "dtype: float64\n",
      "==========\n",
      "= cluster 1 =\n",
      "basketball      0.041981\n",
      "football        0.097491\n",
      "soccer          0.171213\n",
      "softball        0.068456\n",
      "volleyball      0.087399\n",
      "swimming        0.089446\n",
      "cheerleading    0.073356\n",
      "baseball        0.042493\n",
      "tennis          0.063337\n",
      "sports          0.073576\n",
      "cute            0.212755\n",
      "sex             0.106780\n",
      "sexy            0.072113\n",
      "hot             0.094932\n",
      "kissed          0.045491\n",
      "dance           0.229869\n",
      "band            0.205222\n",
      "marching        0.029328\n",
      "music           0.289183\n",
      "rock            0.122943\n",
      "god             0.191692\n",
      "church          0.158195\n",
      "jesus           0.059314\n",
      "bible           0.005485\n",
      "hair            0.244496\n",
      "dress           0.076428\n",
      "blonde          0.049879\n",
      "mall            0.365099\n",
      "shopping        0.071894\n",
      "clothes         0.087691\n",
      "hollister       0.047027\n",
      "abercrombie     0.035983\n",
      "die             0.028011\n",
      "death           0.062459\n",
      "drunk           0.028670\n",
      "drugs           0.030791\n",
      "cluster         1.000000\n",
      "dtype: float64\n",
      "==========\n",
      "= cluster 2 =\n",
      "basketball      1.023923\n",
      "football        1.177033\n",
      "soccer          0.484848\n",
      "softball        0.312600\n",
      "volleyball      0.333333\n",
      "swimming        0.256778\n",
      "cheerleading    0.212121\n",
      "baseball        2.066986\n",
      "tennis          0.189793\n",
      "sports          1.647528\n",
      "cute            0.529506\n",
      "sex             0.749601\n",
      "sexy            0.208931\n",
      "hot             0.221691\n",
      "kissed          0.444976\n",
      "dance           0.577352\n",
      "band            0.489633\n",
      "marching        0.049442\n",
      "music           1.382775\n",
      "rock            0.503987\n",
      "god             0.591707\n",
      "church          0.377990\n",
      "jesus           0.103668\n",
      "bible           0.015949\n",
      "hair            1.869219\n",
      "dress           0.124402\n",
      "blonde          0.347687\n",
      "mall            0.341308\n",
      "shopping        0.357257\n",
      "clothes         0.392344\n",
      "hollister       0.119617\n",
      "abercrombie     0.119617\n",
      "die             0.317384\n",
      "death           0.338118\n",
      "drunk           0.181818\n",
      "drugs           0.226475\n",
      "cluster         2.000000\n",
      "dtype: float64\n",
      "==========\n",
      "= cluster 3 =\n",
      "basketball      0.272847\n",
      "football        0.268902\n",
      "soccer          0.223537\n",
      "softball        0.435240\n",
      "volleyball      0.167653\n",
      "swimming        0.142669\n",
      "cheerleading    0.122945\n",
      "baseball        0.063774\n",
      "tennis          0.059829\n",
      "sports          0.134780\n",
      "cute            0.457594\n",
      "sex             0.570677\n",
      "sexy            1.064431\n",
      "hot             0.222222\n",
      "kissed          0.250493\n",
      "dance           1.827087\n",
      "band            0.363577\n",
      "marching        0.035503\n",
      "music           0.732413\n",
      "rock            0.214333\n",
      "god             0.501644\n",
      "church          0.236686\n",
      "jesus           0.084813\n",
      "bible           0.016437\n",
      "hair            0.777778\n",
      "dress           0.168968\n",
      "blonde          0.349112\n",
      "mall            0.236029\n",
      "shopping        0.295201\n",
      "clothes         0.208416\n",
      "hollister       0.086785\n",
      "abercrombie     0.068376\n",
      "die             0.228139\n",
      "death           0.133465\n",
      "drunk           0.948060\n",
      "drugs           0.159763\n",
      "cluster         3.000000\n",
      "dtype: float64\n",
      "==========\n",
      "= cluster 4 =\n",
      "basketball      1.046392\n",
      "football        0.417526\n",
      "soccer          0.201031\n",
      "softball        6.716495\n",
      "volleyball      0.680412\n",
      "swimming        0.195876\n",
      "cheerleading    0.123711\n",
      "baseball        0.185567\n",
      "tennis          0.077320\n",
      "sports          0.670103\n",
      "cute            0.402062\n",
      "sex             0.335052\n",
      "sexy            0.103093\n",
      "hot             0.195876\n",
      "kissed          0.149485\n",
      "dance           0.479381\n",
      "band            0.360825\n",
      "marching        0.061856\n",
      "music           0.804124\n",
      "rock            0.273196\n",
      "god             0.680412\n",
      "church          0.422680\n",
      "jesus           0.118557\n",
      "bible           0.025773\n",
      "hair            0.592784\n",
      "dress           0.134021\n",
      "blonde          0.139175\n",
      "mall            0.360825\n",
      "shopping        0.484536\n",
      "clothes         0.288660\n",
      "hollister       0.108247\n",
      "abercrombie     0.082474\n",
      "die             0.226804\n",
      "death           0.216495\n",
      "drunk           0.041237\n",
      "drugs           0.067010\n",
      "cluster         4.000000\n",
      "dtype: float64\n",
      "==========\n",
      "= cluster 5 =\n",
      "basketball      0.452275\n",
      "football        0.482605\n",
      "soccer          0.425513\n",
      "softball        0.173952\n",
      "volleyball      0.264942\n",
      "swimming        0.283675\n",
      "cheerleading    0.276539\n",
      "baseball        0.117752\n",
      "tennis          0.146298\n",
      "sports          0.138269\n",
      "cute            2.057984\n",
      "sex             0.479929\n",
      "sexy            0.204282\n",
      "hot             0.297948\n",
      "kissed          0.187333\n",
      "dance           1.071365\n",
      "band            0.363069\n",
      "marching        0.034790\n",
      "music           0.876896\n",
      "rock            0.430865\n",
      "god             0.593220\n",
      "church          1.074041\n",
      "jesus           0.146298\n",
      "bible           0.026762\n",
      "hair            1.232828\n",
      "dress           0.338091\n",
      "blonde          0.230152\n",
      "mall            0.646744\n",
      "shopping        2.256913\n",
      "clothes         0.479929\n",
      "hollister       0.239964\n",
      "abercrombie     0.166815\n",
      "die             0.206958\n",
      "death           0.134701\n",
      "drunk           0.086530\n",
      "drugs           0.091882\n",
      "cluster         5.000000\n",
      "dtype: float64\n",
      "==========\n",
      "= cluster 6 =\n",
      "basketball      0.942016\n",
      "football        0.639411\n",
      "soccer          0.248245\n",
      "softball        0.143828\n",
      "volleyball      0.195017\n",
      "swimming        0.117101\n",
      "cheerleading    0.113250\n",
      "baseball        0.095810\n",
      "tennis          0.099207\n",
      "sports          0.151982\n",
      "cute            0.250510\n",
      "sex             0.214723\n",
      "sexy            0.083579\n",
      "hot             0.112797\n",
      "kissed          0.138618\n",
      "dance           0.327746\n",
      "band            0.292412\n",
      "marching        0.040091\n",
      "music           0.482220\n",
      "rock            0.172140\n",
      "god             0.370102\n",
      "church          0.202945\n",
      "jesus           0.090374\n",
      "bible           0.010646\n",
      "hair            0.390260\n",
      "dress           0.101699\n",
      "blonde          0.069083\n",
      "mall            0.084711\n",
      "shopping        0.138845\n",
      "clothes         0.135221\n",
      "hollister       0.050963\n",
      "abercrombie     0.034881\n",
      "die             0.753794\n",
      "death           0.112797\n",
      "drunk           0.042582\n",
      "drugs           0.074972\n",
      "cluster         6.000000\n",
      "dtype: float64\n",
      "==========\n",
      "= cluster 7 =\n",
      "basketball      0.465201\n",
      "football        0.465201\n",
      "soccer          0.347985\n",
      "softball        0.114774\n",
      "volleyball      0.164835\n",
      "swimming        0.170940\n",
      "cheerleading    0.164835\n",
      "baseball        0.192918\n",
      "tennis          0.125763\n",
      "sports          0.191697\n",
      "cute            0.507937\n",
      "sex             0.761905\n",
      "sexy            0.249084\n",
      "hot             0.197802\n",
      "kissed          0.350427\n",
      "dance           1.196581\n",
      "band            0.683761\n",
      "marching        0.073260\n",
      "music           1.788767\n",
      "rock            2.682540\n",
      "god             1.341880\n",
      "church          0.411477\n",
      "jesus           0.816850\n",
      "bible           0.035409\n",
      "hair            0.979243\n",
      "dress           0.194139\n",
      "blonde          0.366300\n",
      "mall            0.352869\n",
      "shopping        0.280830\n",
      "clothes         0.285714\n",
      "hollister       0.081807\n",
      "abercrombie     0.056166\n",
      "die             0.422466\n",
      "death           0.908425\n",
      "drunk           0.114774\n",
      "drugs           0.170940\n",
      "cluster         7.000000\n",
      "dtype: float64\n",
      "==========\n",
      "= cluster 8 =\n",
      "basketball      0.144517\n",
      "football        0.162816\n",
      "soccer          0.228529\n",
      "softball        0.107520\n",
      "volleyball      0.156538\n",
      "swimming        0.175905\n",
      "cheerleading    0.119273\n",
      "baseball        0.055029\n",
      "tennis          0.106852\n",
      "sports          0.108855\n",
      "cute            0.240016\n",
      "sex             0.168292\n",
      "sexy            0.089221\n",
      "hot             0.128757\n",
      "kissed          0.086951\n",
      "dance           0.360091\n",
      "band            0.390143\n",
      "marching        0.058368\n",
      "music           1.502070\n",
      "rock            0.188861\n",
      "god             0.822893\n",
      "church          0.263390\n",
      "jesus           0.119541\n",
      "bible           0.015360\n",
      "hair            0.383198\n",
      "dress           0.122613\n",
      "blonde          0.082810\n",
      "mall            0.090023\n",
      "shopping        0.720315\n",
      "clothes         0.164552\n",
      "hollister       0.086684\n",
      "abercrombie     0.060104\n",
      "die             0.079070\n",
      "death           0.090958\n",
      "drunk           0.039134\n",
      "drugs           0.052357\n",
      "cluster         8.000000\n",
      "dtype: float64\n",
      "==========\n"
     ]
    }
   ],
   "source": [
    "for i, group in df_sns.iloc[:, 4:].groupby('cluster'):\n",
    "    print '= cluster %i =' % i\n",
    "    print group.mean()\n",
    "    \n",
    "    print '=' * 10"
   ]
  },
  {
   "cell_type": "code",
   "execution_count": 44,
   "metadata": {
    "collapsed": false,
    "deletable": true,
    "editable": true
   },
   "outputs": [],
   "source": [
    "#интерпретация кластеров по убыванию интересов\n",
    "# claster 0 - god, bible, music, jesus, church  \n",
    "# claster 1 - nothing interesting\n",
    "# claster 2 - baseball, hair, sports, music, football, basketball  \n",
    "# claster 3 - dance, sexy \n",
    "# claster 4 - softball, basketball \n",
    "# claster 5 - shopping, cute, church, dance \n",
    "# claster 6 - basketball \n",
    "# claster 7 - rock, music, god, dance \n",
    "# claster 8 - music "
   ]
  },
  {
   "cell_type": "code",
   "execution_count": null,
   "metadata": {
    "collapsed": false,
    "deletable": true,
    "editable": true
   },
   "outputs": [],
   "source": [
    "#Z = df_sns.iloc[:, 4:]\n",
    "#Z"
   ]
  },
  {
   "cell_type": "code",
   "execution_count": null,
   "metadata": {
    "collapsed": true,
    "deletable": true,
    "editable": true
   },
   "outputs": [],
   "source": []
  }
 ],
 "metadata": {
  "anaconda-cloud": {},
  "kernelspec": {
   "display_name": "Python 2",
   "language": "python",
   "name": "python2"
  },
  "language_info": {
   "codemirror_mode": {
    "name": "ipython",
    "version": 2
   },
   "file_extension": ".py",
   "mimetype": "text/x-python",
   "name": "python",
   "nbconvert_exporter": "python",
   "pygments_lexer": "ipython2",
   "version": "2.7.13"
  },
  "nav_menu": {},
  "toc": {
   "navigate_menu": true,
   "number_sections": false,
   "sideBar": true,
   "threshold": 6,
   "toc_cell": false,
   "toc_section_display": "block",
   "toc_window_display": true
  }
 },
 "nbformat": 4,
 "nbformat_minor": 2
}
